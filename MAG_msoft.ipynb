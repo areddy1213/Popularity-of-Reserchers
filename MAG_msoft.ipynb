{
 "cells": [
  {
   "cell_type": "code",
   "execution_count": 17,
   "metadata": {},
   "outputs": [],
   "source": [
    "import pandas as pd\n",
    "from matplotlib import pyplot as plt\n",
    "import statsmodels.formula.api as smf\n",
    "import json\n",
    "from pandas.io.json import json_normalize\n",
    "import math"
   ]
  },
  {
   "cell_type": "code",
   "execution_count": 18,
   "metadata": {},
   "outputs": [],
   "source": [
    "import codecs\n",
    "from tqdm import tqdm\n",
    "from nltk import word_tokenize\n",
    "from collections import Counter, OrderedDict\n",
    "import matplotlib.pyplot as plt\n",
    "import numpy as np"
   ]
  },
  {
   "cell_type": "code",
   "execution_count": 21,
   "metadata": {},
   "outputs": [],
   "source": [
    "file = open('dblp-ref-0.json','r')\n",
    "file1 = open('dblp-ref-1.json','r')\n",
    "file2 = open('dblp-ref-2.json','r')\n",
    "file3 = open('dblp-ref-3.json','r')"
   ]
  },
  {
   "cell_type": "code",
   "execution_count": null,
   "metadata": {},
   "outputs": [],
   "source": [
    "f = file.readlines()\n",
    "f1 = file1.readlines()\n",
    "f2 = file2.readlines()\n",
    "f3 = file3.readlines()\n",
    "data = []\n",
    "for fil in [f,f1,f2,f3]:\n",
    "    for line in fil:\n",
    "        data.append(json.loads(line.strip().replace(\"\\n\",\"\")))"
   ]
  },
  {
   "cell_type": "code",
   "execution_count": 14,
   "metadata": {},
   "outputs": [],
   "source": [
    "dblp = pd.DataFrame(data)"
   ]
  },
  {
   "cell_type": "code",
   "execution_count": 15,
   "metadata": {},
   "outputs": [
    {
     "data": {
      "text/html": [
       "<div>\n",
       "<style scoped>\n",
       "    .dataframe tbody tr th:only-of-type {\n",
       "        vertical-align: middle;\n",
       "    }\n",
       "\n",
       "    .dataframe tbody tr th {\n",
       "        vertical-align: top;\n",
       "    }\n",
       "\n",
       "    .dataframe thead th {\n",
       "        text-align: right;\n",
       "    }\n",
       "</style>\n",
       "<table border=\"1\" class=\"dataframe\">\n",
       "  <thead>\n",
       "    <tr style=\"text-align: right;\">\n",
       "      <th></th>\n",
       "      <th>abstract</th>\n",
       "      <th>authors</th>\n",
       "      <th>doc_type</th>\n",
       "      <th>doi</th>\n",
       "      <th>fos</th>\n",
       "      <th>id</th>\n",
       "      <th>issue</th>\n",
       "      <th>keywords</th>\n",
       "      <th>lang</th>\n",
       "      <th>n_citation</th>\n",
       "      <th>page_end</th>\n",
       "      <th>page_start</th>\n",
       "      <th>publisher</th>\n",
       "      <th>references</th>\n",
       "      <th>title</th>\n",
       "      <th>url</th>\n",
       "      <th>venue</th>\n",
       "      <th>volume</th>\n",
       "      <th>year</th>\n",
       "    </tr>\n",
       "  </thead>\n",
       "  <tbody>\n",
       "    <tr>\n",
       "      <th>0</th>\n",
       "      <td>NaN</td>\n",
       "      <td>[{'name': 'María del Mar Camacho Miñano'}, {'n...</td>\n",
       "      <td>NaN</td>\n",
       "      <td>NaN</td>\n",
       "      <td>NaN</td>\n",
       "      <td>f6559cb1-6100-47d4-86fe-283d56fb4e5d</td>\n",
       "      <td>659</td>\n",
       "      <td>[grupo d, grupo c, finanzas y contabilidad, ec...</td>\n",
       "      <td>es</td>\n",
       "      <td>NaN</td>\n",
       "      <td>19</td>\n",
       "      <td>4</td>\n",
       "      <td>Instituto de Contabilidad</td>\n",
       "      <td>NaN</td>\n",
       "      <td>El modelo ABC: una aplicación en la industria ...</td>\n",
       "      <td>[https://dialnet.unirioja.es/servlet/articulo?...</td>\n",
       "      <td>NaN</td>\n",
       "      <td>55</td>\n",
       "      <td>2003</td>\n",
       "    </tr>\n",
       "  </tbody>\n",
       "</table>\n",
       "</div>"
      ],
      "text/plain": [
       "  abstract                                            authors doc_type  doi  \\\n",
       "0      NaN  [{'name': 'María del Mar Camacho Miñano'}, {'n...      NaN  NaN   \n",
       "\n",
       "   fos                                    id issue  \\\n",
       "0  NaN  f6559cb1-6100-47d4-86fe-283d56fb4e5d   659   \n",
       "\n",
       "                                            keywords lang  n_citation  \\\n",
       "0  [grupo d, grupo c, finanzas y contabilidad, ec...   es         NaN   \n",
       "\n",
       "  page_end page_start                  publisher references  \\\n",
       "0       19          4  Instituto de Contabilidad        NaN   \n",
       "\n",
       "                                               title  \\\n",
       "0  El modelo ABC: una aplicación en la industria ...   \n",
       "\n",
       "                                                 url venue volume  year  \n",
       "0  [https://dialnet.unirioja.es/servlet/articulo?...   NaN     55  2003  "
      ]
     },
     "execution_count": 15,
     "metadata": {},
     "output_type": "execute_result"
    }
   ],
   "source": [
    "dblp.info()"
   ]
  },
  {
   "cell_type": "code",
   "execution_count": null,
   "metadata": {},
   "outputs": [],
   "source": [
    "G = nx.DiGraph()\n",
    "nodes = defaultdict(bool)"
   ]
  },
  {
   "cell_type": "code",
   "execution_count": null,
   "metadata": {},
   "outputs": [],
   "source": [
    "dblp['references'].fillna(False, inplace=True)"
   ]
  },
  {
   "cell_type": "code",
   "execution_count": null,
   "metadata": {},
   "outputs": [],
   "source": [
    "edgelist = []"
   ]
  },
  {
   "cell_type": "code",
   "execution_count": null,
   "metadata": {},
   "outputs": [],
   "source": [
    "for i, row in dblp.iterrows():\n",
    "    node = row['id']\n",
    "    ref = row['references']\n",
    "    \n",
    "    if nodes[node]:\n",
    "        pass\n",
    "    else:\n",
    "        nodes[node] = True\n",
    "        G.add_node(str(node))\n",
    "    if ref:\n",
    "        for ver in ref:\n",
    "            #print(node,ver)\n",
    "            edgelist.append((node,ver))\n",
    "    else:\n",
    "        pass      "
   ]
  }
 ],
 "metadata": {
  "kernelspec": {
   "display_name": "Python 3",
   "language": "python",
   "name": "python3"
  },
  "language_info": {
   "codemirror_mode": {
    "name": "ipython",
    "version": 3
   },
   "file_extension": ".py",
   "mimetype": "text/x-python",
   "name": "python",
   "nbconvert_exporter": "python",
   "pygments_lexer": "ipython3",
   "version": "3.7.0"
  }
 },
 "nbformat": 4,
 "nbformat_minor": 2
}
