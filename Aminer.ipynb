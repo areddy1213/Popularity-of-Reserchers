{
 "cells": [
  {
   "cell_type": "code",
   "execution_count": 10,
   "metadata": {},
   "outputs": [],
   "source": [
    "import pandas as pd\n",
    "from matplotlib import pyplot as plt\n",
    "import statsmodels.formula.api as smf\n",
    "import json\n",
    "from pandas.io.json import json_normalize\n",
    "import math"
   ]
  },
  {
   "cell_type": "code",
   "execution_count": 11,
   "metadata": {},
   "outputs": [],
   "source": [
    "\n",
    "#import ujson\n",
    "import codecs\n",
    "from tqdm import tqdm\n",
    "from nltk import word_tokenize\n",
    "from collections import Counter, OrderedDict\n",
    "import matplotlib.pyplot as plt\n",
    "import numpy as np"
   ]
  },
  {
   "cell_type": "code",
   "execution_count": 12,
   "metadata": {},
   "outputs": [],
   "source": [
    "import json"
   ]
  },
  {
   "cell_type": "code",
   "execution_count": 13,
   "metadata": {},
   "outputs": [],
   "source": [
    "file = open('dblp-ref-0.json','r')\n",
    "file1 = open('dblp-ref-1.json','r')\n",
    "file2 = open('dblp-ref-2.json','r')\n",
    "file3 = open('dblp-ref-3.json','r')\n"
   ]
  },
  {
   "cell_type": "code",
   "execution_count": 14,
   "metadata": {},
   "outputs": [],
   "source": [
    "count  = 0"
   ]
  },
  {
   "cell_type": "code",
   "execution_count": null,
   "metadata": {},
   "outputs": [
    {
     "name": "stdout",
     "output_type": "stream",
     "text": [
      "0\n",
      "1\n",
      "2\n"
     ]
    }
   ],
   "source": [
    "f = file.readlines()\n",
    "f1 = file1.readlines()\n",
    "f2 = file2.readlines()\n",
    "f3 = file3.readlines()\n",
    "data = []\n",
    "f_count = 0\n",
    "for fil in [f,f1,f2,f3]:\n",
    "    print(f_count)\n",
    "    f_count += 1\n",
    "    for line in fil:\n",
    "        data.append(json.loads(line.strip().replace(\"\\n\",\"\")))\n",
    "    "
   ]
  },
  {
   "cell_type": "code",
   "execution_count": null,
   "metadata": {},
   "outputs": [],
   "source": [
    "import spacy\n",
    "spacy.load('en')\n",
    "from spacy.lang.en import English\n",
    "parser = English()\n",
    "def tokenize(text):\n",
    "    lda_tokens = []\n",
    "    tokens = parser(text)\n",
    "    for token in tokens:\n",
    "        if token.orth_.isspace():\n",
    "            continue\n",
    "        elif token.like_url:\n",
    "            lda_tokens.append('URL')\n",
    "        elif token.orth_.startswith('@'):\n",
    "            lda_tokens.append('SCREEN_NAME')\n",
    "        else:\n",
    "            lda_tokens.append(token.lower_)\n",
    "    return lda_tokens"
   ]
  },
  {
   "cell_type": "code",
   "execution_count": null,
   "metadata": {},
   "outputs": [],
   "source": [
    "import nltk\n",
    "nltk.download('wordnet')\n",
    "from nltk.corpus import wordnet as wn\n",
    "def get_lemma(word):\n",
    "    lemma = wn.morphy(word)\n",
    "    if lemma is None:\n",
    "        return word\n",
    "    else:\n",
    "        return lemma\n",
    "    \n",
    "from nltk.stem.wordnet import WordNetLemmatizer\n",
    "def get_lemma2(word):\n",
    "    return WordNetLemmatizer().lemmatize(word)"
   ]
  },
  {
   "cell_type": "code",
   "execution_count": null,
   "metadata": {},
   "outputs": [],
   "source": [
    "nltk.download('stopwords')\n",
    "en_stop = set(nltk.corpus.stopwords.words('english'))\n"
   ]
  },
  {
   "cell_type": "code",
   "execution_count": 8,
   "metadata": {},
   "outputs": [],
   "source": [
    "dblp = pd.DataFrame(data)"
   ]
  },
  {
   "cell_type": "code",
   "execution_count": null,
   "metadata": {},
   "outputs": [],
   "source": [
    "import nltk\n",
    "nltk.download('wordnet')\n",
    "from nltk.corpus import wordnet as wn\n",
    "def get_lemma(word):\n",
    "    lemma = wn.morphy(word)\n",
    "    if lemma is None:\n",
    "        return word\n",
    "    else:\n",
    "        return lemma\n",
    "    \n",
    "from nltk.stem.wordnet import WordNetLemmatizer\n",
    "def get_lemma2(word):\n",
    "    return WordNetLemmatizer().lemmatize(word)"
   ]
  },
  {
   "cell_type": "code",
   "execution_count": 3,
   "metadata": {},
   "outputs": [
    {
     "ename": "NameError",
     "evalue": "name 'dblp' is not defined",
     "output_type": "error",
     "traceback": [
      "\u001b[0;31m---------------------------------------------------------------------------\u001b[0m",
      "\u001b[0;31mNameError\u001b[0m                                 Traceback (most recent call last)",
      "\u001b[0;32m<ipython-input-3-f15e434c4784>\u001b[0m in \u001b[0;36m<module>\u001b[0;34m()\u001b[0m\n\u001b[0;32m----> 1\u001b[0;31m \u001b[0mdblp\u001b[0m\u001b[0;34m.\u001b[0m\u001b[0mheaD\u001b[0m\u001b[0;34m(\u001b[0m\u001b[0;36m1\u001b[0m\u001b[0;34m)\u001b[0m\u001b[0;34m\u001b[0m\u001b[0m\n\u001b[0m",
      "\u001b[0;31mNameError\u001b[0m: name 'dblp' is not defined"
     ]
    }
   ],
   "source": [
    "dblp.head(1)"
   ]
  },
  {
   "cell_type": "code",
   "execution_count": 7,
   "metadata": {},
   "outputs": [
    {
     "name": "stdout",
     "output_type": "stream",
     "text": [
      "<class 'pandas.core.frame.DataFrame'>\n",
      "RangeIndex: 3079007 entries, 0 to 3079006\n",
      "Data columns (total 8 columns):\n",
      "abstract      object\n",
      "authors       object\n",
      "id            object\n",
      "n_citation    int64\n",
      "references    object\n",
      "title         object\n",
      "venue         object\n",
      "year          int64\n",
      "dtypes: int64(2), object(6)\n",
      "memory usage: 187.9+ MB\n"
     ]
    }
   ],
   "source": [
    "dblp.info()"
   ]
  },
  {
   "cell_type": "code",
   "execution_count": 8,
   "metadata": {},
   "outputs": [],
   "source": [
    "x = dblp.groupby('year')['title'].agg(['count']) "
   ]
  },
  {
   "cell_type": "code",
   "execution_count": 9,
   "metadata": {},
   "outputs": [],
   "source": [
    "import matplotlib.pyplot as plt\n",
    "from matplotlib.ticker import StrMethodFormatter\n",
    "#from matplotlib.pyplot import figure\n",
    "#figure(num=None, figsize=(12, 12), dpi=80, facecolor='w', edgecolor='k')\n"
   ]
  },
  {
   "cell_type": "code",
   "execution_count": 10,
   "metadata": {},
   "outputs": [
    {
     "data": {
      "text/plain": [
       "<matplotlib.axes._subplots.AxesSubplot at 0x1be2af2320>"
      ]
     },
     "execution_count": 10,
     "metadata": {},
     "output_type": "execute_result"
    },
    {
     "data": {
      "image/png": "[encoded data removed]",
      "text/plain": [
       "<Figure size 1440x1440 with 1 Axes>"
      ]
     },
     "metadata": {
      "needs_background": "light"
     },
     "output_type": "display_data"
    }
   ],
   "source": [
    "x.plot(kind='barh',figsize=(20, 20), color='#86bf91')"
   ]
  },
  {
   "cell_type": "code",
   "execution_count": 11,
   "metadata": {},
   "outputs": [],
   "source": [
    "import seaborn as sns"
   ]
  },
  {
   "cell_type": "code",
   "execution_count": 12,
   "metadata": {},
   "outputs": [],
   "source": [
    "import networkx as nx\n",
    "from collections import defaultdict"
   ]
  },
  {
   "cell_type": "code",
   "execution_count": 13,
   "metadata": {},
   "outputs": [
    {
     "data": {
      "text/plain": [
       "0    [51c7e02e-f5ed-431a-8cf5-f761f266d4be, 69b625b...\n",
       "1    [10482dd3-4642-4193-842f-85f3b70fcf65, 3133714...\n",
       "2    [2d84c0f2-e656-4ce7-b018-90eda1c132fe, a083a1b...\n",
       "3    [8c78e4b0-632b-4293-b491-85b1976675e6, 9cdc54f...\n",
       "4                                                  NaN\n",
       "5                                                  NaN\n",
       "6                                                  NaN\n",
       "7    [5626736c-e434-4e2d-8405-54940fab88ab, 8e87e87...\n",
       "8                                                  NaN\n",
       "9    [3fcd7cdc-20e6-4ea3-a41c-db126fcc5cfe, bf3a11c...\n",
       "Name: references, dtype: object"
      ]
     },
     "execution_count": 13,
     "metadata": {},
     "output_type": "execute_result"
    }
   ],
   "source": [
    "dblp.iloc[0:10]['references']"
   ]
  },
  {
   "cell_type": "code",
   "execution_count": 14,
   "metadata": {},
   "outputs": [],
   "source": [
    "G = nx.DiGraph()\n",
    "nodes = defaultdict(bool)"
   ]
  },
  {
   "cell_type": "markdown",
   "metadata": {},
   "source": [
    "Data columns (total 8 columns):\n",
    "abstract      753643 non-null object\n",
    "authors       999997 non-null object\n",
    "id            999997 non-null object\n",
    "n_citation    999997 non-null int64\n",
    "references    861477 non-null object\n",
    "title         999997 non-null object\n",
    "venue         999997 non-null object\n",
    "year          999997 non-null int64\n",
    "dtypes: int64(2), object(6)\n",
    "memory usage: 61.0+ MB"
   ]
  },
  {
   "cell_type": "code",
   "execution_count": 15,
   "metadata": {},
   "outputs": [],
   "source": [
    "dblp['references'].fillna(False, inplace=True)"
   ]
  },
  {
   "cell_type": "code",
   "execution_count": 16,
   "metadata": {},
   "outputs": [],
   "source": [
    "edgelist = []"
   ]
  },
  {
   "cell_type": "code",
   "execution_count": 17,
   "metadata": {},
   "outputs": [],
   "source": [
    "for i, row in dblp.iterrows():\n",
    "    node = row['id']\n",
    "    ref = row['references']\n",
    "    \n",
    "    if nodes[node]:\n",
    "        pass\n",
    "    else:\n",
    "        nodes[node] = True\n",
    "        G.add_node(str(node))\n",
    "    if ref:\n",
    "        for ver in ref:\n",
    "            #print(node,ver)\n",
    "            edgelist.append((node,ver))\n",
    "    else:\n",
    "        pass           "
   ]
  },
  {
   "cell_type": "code",
   "execution_count": 18,
   "metadata": {},
   "outputs": [],
   "source": [
    "G.add_edges_from(edgelist)"
   ]
  },
  {
   "cell_type": "code",
   "execution_count": 19,
   "metadata": {},
   "outputs": [],
   "source": [
    "#import pandas as pd\n",
    "df = pd.DataFrame(edgelist, columns=['node1', 'node2'])\n",
    "df.to_csv('list.csv', index=False)"
   ]
  },
  {
   "cell_type": "code",
   "execution_count": 20,
   "metadata": {},
   "outputs": [
    {
     "data": {
      "text/plain": [
       "('00127ee2-cb05-48ce-bc49-9de556b93346',\n",
       " '51c7e02e-f5ed-431a-8cf5-f761f266d4be')"
      ]
     },
     "execution_count": 20,
     "metadata": {},
     "output_type": "execute_result"
    }
   ],
   "source": [
    "edgelist[0]"
   ]
  },
  {
   "cell_type": "code",
   "execution_count": 21,
   "metadata": {},
   "outputs": [],
   "source": [
    "ranks = nx.pagerank(G)"
   ]
  },
  {
   "cell_type": "code",
   "execution_count": 22,
   "metadata": {},
   "outputs": [],
   "source": [
    "rank_df = pd.DataFrame.from_dict(ranks, orient='index')"
   ]
  },
  {
   "cell_type": "code",
   "execution_count": 23,
   "metadata": {},
   "outputs": [],
   "source": [
    "rank_df.columns = ['rank']"
   ]
  },
  {
   "cell_type": "code",
   "execution_count": 24,
   "metadata": {},
   "outputs": [],
   "source": [
    "rank_df.to_csv('rank.csv', index=True)"
   ]
  },
  {
   "cell_type": "code",
   "execution_count": 25,
   "metadata": {},
   "outputs": [
    {
     "name": "stdout",
     "output_type": "stream",
     "text": [
      "<class 'pandas.core.frame.DataFrame'>\n",
      "Index: 3079007 entries, 00127ee2-cb05-48ce-bc49-9de556b93346 to ff941105-0890-447a-a15f-1623dec0870e\n",
      "Data columns (total 1 columns):\n",
      "rank    float64\n",
      "dtypes: float64(1)\n",
      "memory usage: 47.0+ MB\n"
     ]
    }
   ],
   "source": [
    "rank_df.info()"
   ]
  },
  {
   "cell_type": "code",
   "execution_count": 26,
   "metadata": {},
   "outputs": [
    {
     "data": {
      "text/html": [
       "<div>\n",
       "<style scoped>\n",
       "    .dataframe tbody tr th:only-of-type {\n",
       "        vertical-align: middle;\n",
       "    }\n",
       "\n",
       "    .dataframe tbody tr th {\n",
       "        vertical-align: top;\n",
       "    }\n",
       "\n",
       "    .dataframe thead th {\n",
       "        text-align: right;\n",
       "    }\n",
       "</style>\n",
       "<table border=\"1\" class=\"dataframe\">\n",
       "  <thead>\n",
       "    <tr style=\"text-align: right;\">\n",
       "      <th></th>\n",
       "      <th>rank</th>\n",
       "    </tr>\n",
       "  </thead>\n",
       "  <tbody>\n",
       "    <tr>\n",
       "      <th>6a6b9aa6-683f-4c7c-b06e-9c3018d10fd3</th>\n",
       "      <td>0.000623</td>\n",
       "    </tr>\n",
       "    <tr>\n",
       "      <th>c1b6b493-01ef-420f-be44-7bacfe34e846</th>\n",
       "      <td>0.000338</td>\n",
       "    </tr>\n",
       "    <tr>\n",
       "      <th>b944f77f-113b-4a02-ae5e-d4a124b8fd5b</th>\n",
       "      <td>0.000329</td>\n",
       "    </tr>\n",
       "    <tr>\n",
       "      <th>d3e00e7e-1c64-4d7a-b2b2-1ad98ba4c706</th>\n",
       "      <td>0.000221</td>\n",
       "    </tr>\n",
       "    <tr>\n",
       "      <th>f6bd8b64-684d-429a-aab5-8ff3a2c23cd6</th>\n",
       "      <td>0.000220</td>\n",
       "    </tr>\n",
       "    <tr>\n",
       "      <th>65d5ccdc-7022-45b0-adf9-0385273b1283</th>\n",
       "      <td>0.000205</td>\n",
       "    </tr>\n",
       "    <tr>\n",
       "      <th>62549bc2-e0b3-46e8-8d32-390dded105d5</th>\n",
       "      <td>0.000202</td>\n",
       "    </tr>\n",
       "    <tr>\n",
       "      <th>2659531e-eb9d-4dd5-b46f-10f66a4819c6</th>\n",
       "      <td>0.000192</td>\n",
       "    </tr>\n",
       "    <tr>\n",
       "      <th>1c63e1d5-b963-455b-829d-e4f3eb63a36a</th>\n",
       "      <td>0.000192</td>\n",
       "    </tr>\n",
       "    <tr>\n",
       "      <th>e0f3a738-4ab2-40d1-ba44-506d81c1d230</th>\n",
       "      <td>0.000187</td>\n",
       "    </tr>\n",
       "  </tbody>\n",
       "</table>\n",
       "</div>"
      ],
      "text/plain": [
       "                                          rank\n",
       "6a6b9aa6-683f-4c7c-b06e-9c3018d10fd3  0.000623\n",
       "c1b6b493-01ef-420f-be44-7bacfe34e846  0.000338\n",
       "b944f77f-113b-4a02-ae5e-d4a124b8fd5b  0.000329\n",
       "d3e00e7e-1c64-4d7a-b2b2-1ad98ba4c706  0.000221\n",
       "f6bd8b64-684d-429a-aab5-8ff3a2c23cd6  0.000220\n",
       "65d5ccdc-7022-45b0-adf9-0385273b1283  0.000205\n",
       "62549bc2-e0b3-46e8-8d32-390dded105d5  0.000202\n",
       "2659531e-eb9d-4dd5-b46f-10f66a4819c6  0.000192\n",
       "1c63e1d5-b963-455b-829d-e4f3eb63a36a  0.000192\n",
       "e0f3a738-4ab2-40d1-ba44-506d81c1d230  0.000187"
      ]
     },
     "execution_count": 26,
     "metadata": {},
     "output_type": "execute_result"
    }
   ],
   "source": [
    "rank_df.nlargest(10,'rank')"
   ]
  },
  {
   "cell_type": "code",
   "execution_count": 95,
   "metadata": {},
   "outputs": [
    {
     "data": {
      "text/html": [
       "<div>\n",
       "<style scoped>\n",
       "    .dataframe tbody tr th:only-of-type {\n",
       "        vertical-align: middle;\n",
       "    }\n",
       "\n",
       "    .dataframe tbody tr th {\n",
       "        vertical-align: top;\n",
       "    }\n",
       "\n",
       "    .dataframe thead th {\n",
       "        text-align: right;\n",
       "    }\n",
       "</style>\n",
       "<table border=\"1\" class=\"dataframe\">\n",
       "  <thead>\n",
       "    <tr style=\"text-align: right;\">\n",
       "      <th></th>\n",
       "      <th>abstract</th>\n",
       "      <th>authors</th>\n",
       "      <th>id</th>\n",
       "      <th>n_citation</th>\n",
       "      <th>references</th>\n",
       "      <th>title</th>\n",
       "      <th>venue</th>\n",
       "      <th>year</th>\n",
       "    </tr>\n",
       "  </thead>\n",
       "  <tbody>\n",
       "    <tr>\n",
       "      <th>2332760</th>\n",
       "      <td>This paper presents a method for extracting di...</td>\n",
       "      <td>[David G. Lowe]</td>\n",
       "      <td>b944f77f-113b-4a02-ae5e-d4a124b8fd5b</td>\n",
       "      <td>42508</td>\n",
       "      <td>[00a4e16f-6b65-4ad2-bedc-b19d9cbc2cfe, 01a0f82...</td>\n",
       "      <td>Distinctive Image Features from Scale-Invarian...</td>\n",
       "      <td>International Journal of Computer Vision</td>\n",
       "      <td>2004</td>\n",
       "    </tr>\n",
       "  </tbody>\n",
       "</table>\n",
       "</div>"
      ],
      "text/plain": [
       "                                                  abstract          authors  \\\n",
       "2332760  This paper presents a method for extracting di...  [David G. Lowe]   \n",
       "\n",
       "                                           id  n_citation  \\\n",
       "2332760  b944f77f-113b-4a02-ae5e-d4a124b8fd5b       42508   \n",
       "\n",
       "                                                references  \\\n",
       "2332760  [00a4e16f-6b65-4ad2-bedc-b19d9cbc2cfe, 01a0f82...   \n",
       "\n",
       "                                                     title  \\\n",
       "2332760  Distinctive Image Features from Scale-Invarian...   \n",
       "\n",
       "                                            venue  year  \n",
       "2332760  International Journal of Computer Vision  2004  "
      ]
     },
     "execution_count": 95,
     "metadata": {},
     "output_type": "execute_result"
    }
   ],
   "source": [
    "dblp[dblp['id'] == 'b944f77f-113b-4a02-ae5e-d4a124b8fd5b']"
   ]
  },
  {
   "cell_type": "code",
   "execution_count": null,
   "metadata": {},
   "outputs": [],
   "source": [
    "dblp[dblp['id'] == '65d5ccdc-7022-45b0-adf9-0385273b1283']"
   ]
  },
  {
   "cell_type": "code",
   "execution_count": null,
   "metadata": {},
   "outputs": [],
   "source": [
    "dblp.nlargest(10,'n_citation')"
   ]
  },
  {
   "cell_type": "code",
   "execution_count": 27,
   "metadata": {},
   "outputs": [
    {
     "name": "stdout",
     "output_type": "stream",
     "text": [
      "00127ee2-cb05-48ce-bc49-9de556b93346\n",
      "00053ae1-28bd-4dd0-98ee-00a1d7ae42a6\n",
      "00223b1f-17ca-47bc-bc49-444fe8524ae4\n",
      "aa06efe4-427f-4487-98ce-122727732a86\n",
      "95fb92f0-c8db-4dcf-86fc-4b71dc8dd297\n",
      "887f8a09-db8f-4429-981c-2173631aafb0\n",
      "74e84440-010b-49e8-85f6-9dac6daf60c9\n",
      "5e279b68-0091-420a-9503-2c08ad151c43\n",
      "41268810-8fcb-40b0-aae2-9d7a6bf2ab89\n",
      "32aac0fb-b5c1-40d9-a894-fff8fbd31698\n",
      "1bc9ff10-5cc7-4a56-b1ec-b72631ab5aff\n",
      "079af1d2-4f8a-4c56-a1a1-e461ad710319\n",
      "000b8ceb-dbfc-466e-bf32-950089173020\n",
      "00675425-4ecc-4d03-897b-3304fef0d9c5\n",
      "000d6c21-5ad9-425c-8bba-23ccd5efccf8\n",
      "00084794-80c5-4e04-a6e8-db576c8384dd\n",
      "a52a3206-01b2-4fdf-bae4-c01e029d5999\n",
      "89677ec3-ca4c-4505-a5b2-4bc86536b22e\n",
      "6c79af8d-0a9a-4472-a59e-ea5971961cee\n",
      "6791bbf7-bc0b-4cbf-b4df-bd16fa3910ae\n",
      "e80ea297-5f79-4789-80f7-95df5c64d22b\n",
      "000ccd64-b58d-4122-9fd8-c7d0aafb2f33\n",
      "4dd57484-8f0e-4f0c-955d-c89bd785e620\n",
      "09c843a4-b6cf-48cb-83a2-99a15f9a0166\n",
      "04611c85-60db-4a43-8473-2a4fab6e8bc7\n",
      "0c6ef8ac-3bde-4e6c-b105-99eb9945ef9a\n",
      "14a1a7fa-1bc4-4d26-940c-a26a216c0995\n",
      "1cd25b45-310e-4e38-ac9d-ac833ec7f76a\n",
      "252a368f-dad8-426e-be75-d1347cf809a0\n",
      "2d6ea537-d10a-4eb1-a72f-685b049ea136\n",
      "3590f81e-247a-4c54-ac02-b5d0001c7f29\n",
      "3de617da-dee6-4346-be00-719340414a2b\n",
      "46395e6e-30e9-4803-9794-cbda1a6b787d\n",
      "4e838733-07dc-48e9-a53e-b80284fae1b9\n",
      "56e67e32-5469-471c-92ee-abb90113277f\n",
      "5f405e0d-9f48-40d1-b8e8-fc4826e978f3\n",
      "679df292-fc31-4fe5-8af9-9fac67bbd1b0\n",
      "70138dae-3a7f-4428-9d1d-b951993efb9f\n",
      "787c18f8-e345-4a3f-b72c-40e3d4a79bdc\n",
      "80e28120-49be-4513-8ce3-e222f7c105e7\n",
      "894c8e83-6a0f-42e1-a51b-1ac80fc812f9\n",
      "91adc147-6940-4a60-ba56-78d56f20fe85\n",
      "9a0f87bc-e768-4ff3-ba24-149c0eb2e070\n",
      "a2809243-50c5-40c0-b2e3-ec6a474e82ed\n",
      "aae42bac-04ca-4300-a3d1-cdf8dcff8ec8\n",
      "b318c105-7ec1-4e0f-9b58-28551b6c5479\n",
      "bb6e7b26-ccfa-4840-b8fe-e37d7cc357a9\n",
      "c3c6185a-95bf-457e-a3af-abdd0494179d\n",
      "cc3dc047-91aa-4f03-8149-8c981f316e31\n",
      "d4779fed-c335-47fd-91b4-09ba3657dc40\n",
      "dcf27ed8-a5eb-471c-81b2-6b1d3c4ca5b8\n",
      "e55299a2-a71a-4d4b-89df-3e8b8e605e03\n",
      "edaeeb15-64ac-4e21-8e02-ec3ebf7f3488\n",
      "f62453b7-31bf-4b98-b24d-b1839514c5e0\n",
      "fe952c34-92ab-443d-a83b-4144285739fd\n",
      "56818a05-ea71-4a4d-a10d-bed290b99e53\n",
      "bfd0470f-b1b8-4537-b404-6782e9997a34\n",
      "59a6c5e5-1926-4b1c-b7bd-5ef3ea2ee92d\n",
      "17ed0550-0a36-4663-922d-61bc7efb589b\n",
      "7acf929c-a2a8-4e72-ba09-a0a4a866c140\n",
      "dd6a9531-1854-42f6-aa24-cd8b4d508f86\n",
      "2b80edd0-f662-4422-b5ed-c808783989ac\n",
      "6d740f53-19a8-4b8e-a083-34da958f4cc0\n",
      "afd25708-5259-43b9-912c-cb18da250106\n",
      "f1a8594b-08c5-4735-b306-c18a84cd1518\n",
      "3555d5fc-6c3b-4098-8516-f221afac4b4f\n",
      "78bd9844-3226-4821-a94b-fc180b75f22d\n",
      "bc56cd3e-3336-4acb-991c-3a49bb2e54c5\n",
      "0002fbe9-8d5e-473d-940c-ff117ee40084\n",
      "02585cbc-b51b-4070-80db-eb64ed69231b\n",
      "04a556e3-8774-42c3-9277-d6ad1763a896\n",
      "06f5fcde-c323-4724-a114-d051fc6d5074\n",
      "09423d10-334f-4e3a-a9e8-50a9bf6a43d9\n",
      "0b944f52-4565-4c88-8ee3-a1c4b211d4b2\n",
      "0df127c8-e8c3-4983-a2eb-84936583c125\n",
      "1042b2da-99d6-475c-93e0-e992a4828966\n",
      "1299f224-5b48-465c-90de-c0818290727d\n",
      "14ee39f9-1b16-48ea-9575-6ebc5cd3e185\n",
      "17446b7a-4eb1-47be-971d-1036837cdca3\n",
      "1993b5a9-4791-4cfe-9d9c-f693ec03e3b2\n",
      "1bec2e93-725a-4c6e-be9e-93eb496d9223\n",
      "1e3dc1f5-87ed-4848-995b-ac3110afefa3\n",
      "208c2660-5186-4ed6-99d8-dc275203c675\n",
      "22da9558-81c4-4e59-b5f9-db23ecd1e28d\n",
      "2538b7ff-5256-4d18-8291-5930dcc204ef\n",
      "27946ce2-4ec6-4585-8be5-f0e2f78f0fa2\n",
      "29ee23bd-1fe6-492c-89a9-fbc128121e75\n",
      "2c49da7f-f41d-4928-ad41-d011237d7384\n",
      "2ea071fa-2f08-42c6-91c5-7e212ada24be\n",
      "30f7c672-d86e-49db-a7f9-a37379c79282\n",
      "3349c487-d7fa-45a8-9d8d-798c60030d8c\n",
      "35aa4852-4994-4a27-8557-1d6007954461\n",
      "37fc4942-0459-4f30-9c3d-734646bfeb2a\n",
      "3a544d8f-70cd-4089-89bf-967f3c9385f6\n",
      "3ca0844d-dcc2-491f-947b-bd2de5cd6563\n",
      "3ef115d1-ef59-4dc5-aea3-cf3c1f687a39\n",
      "4145bccd-c9ed-4082-8933-572192508355\n",
      "439cc184-b073-4e2a-8fe0-c9aea2772452\n",
      "45f96792-3e6e-4a80-bbbc-4b3e4d14150e\n",
      "4852001b-6f3d-4f27-818c-b4f60ddf8e75\n",
      "4aa69add-3978-480b-a1c0-d99a83d7e324\n",
      "4cfdba66-41fc-49b3-a298-91264ffd9047\n",
      "4f53d27a-8cef-410e-a28c-5bc8c25fd056\n",
      "51a9b4c6-55f8-4fa5-9e43-ac79ad1b9315\n",
      "540546ef-7b31-47be-a143-eb460490d2cb\n",
      "56573ea9-7f90-453a-9901-410fda94609c\n",
      "58b32ecc-a955-4f68-af58-a61ab25be906\n",
      "5b04c810-4408-4e8b-b0b7-83a1496de7ca\n",
      "5d5287f2-2d99-4d84-a2b5-392cec4d4767\n",
      "5fa84b59-0aee-4a67-b3bf-3ffbc7578c01\n",
      "61f9809f-db01-451d-be7f-3908c598dd19\n",
      "644b9934-2d5e-4329-948e-52cc07e8190c\n",
      "66a532b4-6394-4ef3-89ea-34bf4aa55fd9\n",
      "68fc5584-643d-46ac-a5c6-abab7595aca5\n",
      "6b5601e7-3410-4467-a5b9-1ac0915b9ecf\n",
      "6da52430-6c99-40b3-b024-50ac2c09ac76\n",
      "7008b9e4-6b63-40ac-92cd-485f58ef0159\n",
      "725cc899-5f50-4f4c-b160-1650932ec5a3\n",
      "74afe6b1-754c-49e5-8997-52129a22e6f1\n",
      "7706ab2c-967d-42ba-a0f0-3a95331d05c9\n",
      "795cf95c-cecb-47d3-9c8f-5f299b263b4d\n",
      "7bb27c5d-7656-450f-9e5a-1a8878c1d015\n",
      "7e1add21-8b64-48ed-b70c-6bee5b51353c\n",
      "80766079-3891-4ac0-995b-1c65a8046832\n",
      "82cdc709-8c3f-48fb-b1fc-31ac6289de24\n",
      "8523d8b1-df9f-45b7-b6df-bb34088c8349\n",
      "876f943a-83ba-4eb6-a4f7-5aca9c0f45e5\n",
      "89c8f382-95ed-479c-a24f-9d45b1f7c29b\n",
      "8c18157a-e86b-42ac-b5e6-6fc2a1294acf\n",
      "8e732b3f-5e48-41f7-baef-e56321b2a357\n",
      "90cac625-c259-4af5-9dd7-52f8b7e8fb6f\n",
      "9328f1c1-935f-4801-89b6-434f52b78fcc\n",
      "9580be4a-8b1e-48a2-8e61-22c3c037bd74\n",
      "97dc5363-a98c-430b-b609-21c68fb0f54c\n",
      "9a309347-38be-4408-83cc-0df6d9aebef4\n",
      "9c819ba5-ca58-4de6-af93-e618266159c8\n",
      "9ed63884-e445-4a0a-b763-3d32d95fb4a3\n",
      "a132c2d8-3d2f-4b7e-9c61-46468ffa731b\n",
      "a3979bf2-b6c3-4b04-8944-999f93b5ad15\n",
      "a5e80770-633f-460c-b01a-85cc5b7da654\n",
      "a840afd6-45f1-473c-968f-58207db2f895\n",
      "aa94d699-8673-49aa-a0ee-73708bfadbad\n",
      "ace9b6b9-8788-4395-8cc9-d93aee599ee3\n",
      "af3cb494-8b45-417c-8e37-6731bb79d8a6\n",
      "b1a49e72-e08e-4ece-b6c5-4a0e562ce1f5\n",
      "b3ff2ba4-dc38-4013-b3d2-c0702d6e14f6\n",
      "b65df20b-244e-4006-aea8-04b8fc9a91dd\n",
      "b8b7d291-d3ac-4f89-980c-8318b1ac70e0\n",
      "bb05eec9-f14f-485f-b596-4d141ded7a03\n",
      "bd5c59d6-d36f-48fc-a19d-950b9ad676cb\n",
      "bfb377d4-0c92-4c0e-9927-670946ae497c\n",
      "c20eef60-9b6e-4100-bd93-1b46d302ff01\n",
      "c4661786-a57f-476e-8d19-60106f5a9038\n",
      "c6c734bc-a617-461c-8503-ed9f26192acc\n",
      "c91d778f-d22f-48ea-9c3a-a64cd4144223\n",
      "cb75fab9-b925-4780-ba7e-62876a7b6d19\n",
      "cdcd981c-52ae-41cb-92bd-e948b264ada7\n",
      "d02d297a-0359-427e-bde8-b0bce67fba10\n",
      "d27c73f3-0fe2-4725-a452-f134cd672adf\n",
      "d4dcbfc3-4f67-481d-98f9-5edf1aa845e9\n",
      "d7380529-4fa4-4cb4-8451-885317416420\n",
      "d9909e47-229d-4825-bd25-7e2a2388eb77\n",
      "dbeaa3a0-554e-4895-8d20-44d765108ec3\n",
      "de478f66-668f-420c-bb53-b1caaed7cde0\n",
      "e0a455d5-0490-4049-b55d-f9183f57a28a\n",
      "e2fad2ee-2c03-4844-91fc-064e7c9eb095\n",
      "e54c72dc-688a-4235-9e37-25e3def5ab2b\n",
      "e7a76c0f-9599-4e71-b8df-39b183de42e7\n",
      "e9fdc1de-659b-41ca-b886-4435f489a1f0\n",
      "ec58afab-06f4-4bdc-9d74-73cb74e3c510\n",
      "eea7b18b-5b13-4c5e-b011-30c6f26af47f\n",
      "f10870b8-a4ed-443f-bfbf-37bdc4eff740\n",
      "f3597628-20e6-460e-a25a-716401ec8d7d\n",
      "f5b79203-fda4-48dc-a361-091ccf5c9597\n",
      "f80b9561-13ef-46ae-bc14-d841ef748703\n",
      "fa66f7d4-10e2-4b90-b8b8-6279a6fb1f86\n",
      "fcc31615-6b0c-4626-89c1-7e6ed5b006c0\n",
      "ff1e6323-e376-4804-ac1a-5f1cdc669e84\n",
      "020e8cf8-cb78-4a72-bdda-837762fcc8c0\n",
      "055495bd-20e9-4998-977e-71c8ac74b065\n",
      "089ca442-f90c-4fcd-86cd-069464f2e2a9\n",
      "0bf1c427-ccb7-49db-817c-54fefd240638\n",
      "0f344646-de6a-4637-b2b4-cbb96193c1ec\n",
      "12791881-1290-4f31-be5f-23371296c81c\n",
      "15cc58f2-ff08-4c8c-995a-b9b0523202db\n",
      "192662d0-1597-4592-a286-91058d0bc9b5\n",
      "1c6c8a27-ef45-4ab4-b6d6-f789bfe3bfc0\n",
      "1fba511d-961a-4f7a-86de-68fe8bc7f567\n",
      "2315b5d8-5521-4299-b333-363f3ae9ae95\n",
      "266d84ab-da0b-404d-9145-657fdf5c8b25\n",
      "29c4a981-13d8-4191-95ee-64d665e2061f\n",
      "2d046dbc-7038-4c3b-9463-5e29f922eeb5\n",
      "30565dd6-8498-4a18-946f-d2ceb7bb9f94\n",
      "33a8dd11-4104-4e91-9a12-6296dbf56eb1\n",
      "36f020bb-3ca0-4169-a0b2-be4490f9cbc8\n",
      "3a45f296-db2f-4dcc-9186-fed888a3d494\n",
      "3d95d4a0-4679-49a1-adc2-5106186efa87\n",
      "40dcd9fe-bae9-4608-890f-20d59e9869cd\n",
      "44284f37-a1aa-4ff7-bde3-f10c3367a5b7\n",
      "476b7dc5-06cd-4713-92bc-8318043648ee\n",
      "4ab3a4cf-1d96-4ce5-ab6f-b3e19fc260de\n",
      "4e0532be-3e6a-47e9-a873-bbca8bb619d7\n",
      "5157882d-f615-4648-886e-60543b8185cd\n",
      "54a2bffa-cf0e-481f-8d99-29f7e3848209\n",
      "57eca5b9-9080-4b23-a579-665123842f9a\n",
      "5b4afa31-274f-40a3-81a1-bb69efbd555b\n",
      "5e925a42-d4ed-47cb-a5ca-9c6c3f4c397e\n",
      "61e82d2b-c36e-4e38-9102-2a70ec42f8e6\n",
      "653b85a3-5ec7-4dfb-8a25-e60ca259744e\n",
      "689081b0-ac23-4cf7-9820-fdfadb8d8334\n",
      "6be9a539-42b1-470b-9cbc-21ee40312445\n",
      "6f491607-aba4-4f91-a043-47e52390ff34\n",
      "72920452-412f-45c3-ab14-51b7d8cccacd\n",
      "75db6cd2-4412-4e89-a6e0-4bcd3de2b0a5\n",
      "79376d52-bef0-4a2d-9c44-27987e726b42\n",
      "7c8b33e5-f36f-4f53-bfb5-63254d0acd32\n",
      "7fd874aa-7532-4228-b812-4d43b4676e13\n",
      "83269965-ffdd-48a4-b8e6-f36c0b1dcec2\n",
      "86786665-ee33-4bbc-b106-38745841a6d6\n",
      "89cd41aa-2b4b-4984-b828-1df27eaf276d\n",
      "8d0c70ff-8eb5-4f00-8454-75dc8cdaecea\n",
      "90687d00-d68d-4c3d-9841-cca3fb65c855\n"
     ]
    },
    {
     "name": "stdout",
     "output_type": "stream",
     "text": [
      "93bc356c-06c6-4fea-aaaf-b85d2ee103b1\n",
      "970502fa-ac79-4bc2-86a4-d733f7080bf2\n",
      "9a5c3283-4bc2-4716-94d1-6462749f58ed\n",
      "9dadf246-5716-48b7-93ee-7cd54e4a6a6f\n",
      "a0f9d68d-9e05-4517-8951-7d61cc8557d2\n",
      "a44bb29f-2057-4f99-9e4a-b78811d8c254\n",
      "a7a79dfd-ff9f-467d-9867-1aedadb443a4\n",
      "aaee05a3-ebf1-4043-a636-1f382c36e8db\n",
      "ae591a12-adce-475b-b1a4-94dea5065749\n",
      "b1af9cd9-c7c9-4c0c-8325-a66c6be77c9f\n",
      "b50d225a-15e4-4e99-b62d-ab27f2ab1a2d\n",
      "b85e7238-9bf5-4bed-8bbf-319ecaacb0d4\n",
      "bb9fbd1c-2a6a-4d9e-b5fd-0de059db9bed\n",
      "beecf905-93cf-4966-8554-47104af52ef5\n",
      "c2520f9f-603c-4a64-b376-f3236c1947ae\n",
      "c593bef9-4f07-4b62-a5c4-6f8af53f55d9\n",
      "c8e718a8-587a-4031-ab46-5cfc81c5919c\n",
      "cc2e3d78-8d27-41c8-af81-e46621196d04\n",
      "cf7f4d24-a4c7-433f-bde0-bc9e5524163d\n",
      "d2d64ef0-cfb9-430f-b4d3-a493697eca5b\n",
      "d6382c06-5de2-4b4e-b6b1-5ed082b52f83\n",
      "d98bc849-1aac-4769-afb3-e5b7d8f5fa70\n",
      "dcd73b31-195c-452c-9fea-0a0c3175c763\n",
      "e02556f6-0709-48d7-912a-ebf027d0d56b\n",
      "e37c8a1e-155a-4c9c-abcb-4440937fe63a\n",
      "e6dcd7eb-8b3c-4b64-9982-7dfa636c1151\n",
      "ea398fa5-3202-41bd-a5d7-7218eb329f11\n",
      "ed9364d6-15eb-419b-a028-fe479ff4b0d4\n",
      "f0df35f3-f7fb-4d52-8a5a-72c9fa193718\n",
      "f444e292-0199-451e-abe8-080766caf077\n",
      "f78d9f7f-66d6-42d7-a61d-7de2d5a27336\n",
      "fae4926e-e295-4631-81d4-8cd2ee732087\n",
      "fe438118-31f8-414b-8b9b-87684fbbd4ec\n",
      "65623a2d-1e6b-431a-9da9-93e1b50b23f6\n",
      "479b6bfb-cdb3-4c8c-8c20-66a59ba927a4\n",
      "000d9c1d-1fc2-49ac-8803-99370582a757\n",
      "73342102-4861-4208-be31-f61d05b54b3f\n",
      "f30e6d60-8b8a-41d3-bf67-e7eb9f01b626\n",
      "b45f83b7-963d-4a37-b339-fd5712cdd9f7\n",
      "d4365ecc-4375-4518-8f70-f05da1669573\n",
      "2d1c560f-558c-46d8-a1c8-e1b610ee63f9\n",
      "c603ac8f-c42f-4135-9138-a3d5b30a1494\n",
      "5f7d5356-6d22-43d5-88b8-b9d75a6dd714\n",
      "003237bf-1162-4c9c-b717-ff62c4529add\n",
      "e6845fd9-725e-45db-8f73-5b73797fbf1f\n",
      "50d979d9-efbf-4dbf-948e-2e4eb32452b6\n",
      "ac3f0013-29b1-4b06-916b-a578907f54ee\n",
      "567f4615-7633-44f2-9caf-dd8ad9290b70\n",
      "5588cd5c-b7b0-4082-b881-2d8148008501\n",
      "4a781539-ab9e-42f5-bd78-cbbce2573470\n",
      "8b96cc4f-ce4c-4664-81c1-6b2505583aa2\n",
      "000388d1-2765-4a21-98cf-3c09d7e2cd0a\n",
      "1e7bc639-fa62-4b2a-aa34-18418ba42b63\n",
      "3f826432-c7d9-4017-8765-ce4f3ac4175d\n",
      "6035e4f2-2645-49b0-823c-252bdbfd173d\n",
      "8041637b-42a8-479c-9ba5-2b2b6d577127\n",
      "a0dbeb1c-25da-430b-8782-872f97589590\n",
      "c13e10d7-72d3-45f3-ab05-c749e44aa1b5\n",
      "e1b5dcef-33c2-4105-bcb9-531503e748e5\n",
      "19c3a646-69f3-4bbc-84b0-76b2a90567d0\n",
      "9078b34d-d7d2-4339-8595-73d49e215a55\n",
      "78b84135-4ef6-4652-876c-6a0c7c9f3dae\n",
      "009b6c85-df10-47b4-aea1-1e4906f4d6f5\n",
      "025ad8f1-1063-46ae-91d7-0578ba50cfe5\n",
      "00b0f918-8f7b-4bcb-8f38-d84c194da886\n",
      "011c4bf8-273a-4095-9d6f-b220ac4fdb47\n",
      "0133993d-983b-4f0a-ab50-115dc84b2e1b\n",
      "0168c73f-d911-4980-b964-b8c1784bb662\n",
      "00ef7eae-9aa6-49c1-8a19-f3f24d56eb86\n",
      "00ec69ca-cecd-4dac-a89a-c2032c2c6230\n",
      "01d9e2c5-992b-450e-ae20-fafe60278e70\n",
      "01e27e36-834b-4044-ac62-06a50d70fa24\n",
      "0073ca50-dc42-434a-a6f0-2d6ca9ef750e\n",
      "011f4163-a26b-49ed-8cae-7815c8c6413b\n",
      "00f8daef-a296-4d01-97b4-edad65f2cef8\n",
      "00c873af-16d4-4962-962c-340fc4deb032\n",
      "013cc2d0-fcbd-4f61-8a2a-923687db8ef6\n",
      "01605ce5-06e1-4f19-a05f-fcbe908a6fd1\n",
      "013ea675-bb58-42f8-a423-f5534546b2b1\n",
      "00fc6281-23ad-4550-8809-d1f630926974\n",
      "01440fcd-0f69-4835-bf0e-bdee28457d34\n",
      "018d7771-8c7d-4999-86b9-81230426b80d\n",
      "01fd35d8-0c33-4d72-9a32-a973793b96f2\n",
      "0151379b-2830-4f43-87ce-b55cdc0044e1\n",
      "0046ccff-dd99-4950-9759-479c49a25034\n",
      "00779ad2-94b9-4a97-9bde-240ba083f815\n"
     ]
    }
   ],
   "source": [
    "author_page = defaultdict(float)\n",
    "author_cit = defaultdict(int)\n",
    "count = 0\n",
    "for i, row in dblp.iterrows():\n",
    "    node = row['id']\n",
    "    authors = row['authors']\n",
    "    n_citation = row['n_citation']\n",
    "    try:\n",
    "        n_auth = len(authors)\n",
    "    except Exception:\n",
    "        continue\n",
    "    page_rank = rank_df.loc[[node]]['rank'].values\n",
    "    page_rank = page_rank[0]/n_auth\n",
    "    #rank_df['index']\n",
    "    if count % 10000 == 0:\n",
    "        print(node)\n",
    "    count += 1\n",
    "    for author in authors:\n",
    "        #print(node,ver)\n",
    "        author_page[author] += page_rank\n",
    "        author_cit[author] += n_citation\n",
    "        \n",
    "        "
   ]
  },
  {
   "cell_type": "code",
   "execution_count": 28,
   "metadata": {},
   "outputs": [
    {
     "name": "stdout",
     "output_type": "stream",
     "text": [
      "<class 'pandas.core.frame.DataFrame'>\n",
      "RangeIndex: 3079007 entries, 0 to 3079006\n",
      "Data columns (total 8 columns):\n",
      "abstract      object\n",
      "authors       object\n",
      "id            object\n",
      "n_citation    int64\n",
      "references    object\n",
      "title         object\n",
      "venue         object\n",
      "year          int64\n",
      "dtypes: int64(2), object(6)\n",
      "memory usage: 187.9+ MB\n"
     ]
    }
   ],
   "source": [
    "dblp.info()"
   ]
  },
  {
   "cell_type": "code",
   "execution_count": null,
   "metadata": {},
   "outputs": [],
   "source": [
    "# #rank_df.'65d5ccdc-7022-45b0-adf9-0385273b1283'\n",
    "\n",
    "\n",
    "# r = rank_df.loc[['65d5ccdc-7022-45b0-adf9-0385273b1283']]['rank'].values\n",
    "\n",
    "# r = r[0]\n",
    "# print(r)"
   ]
  },
  {
   "cell_type": "code",
   "execution_count": null,
   "metadata": {},
   "outputs": [],
   "source": [
    "#print(l)"
   ]
  },
  {
   "cell_type": "code",
   "execution_count": 29,
   "metadata": {},
   "outputs": [],
   "source": [
    "authour_page_df = pd.DataFrame.from_dict(author_page, orient='index')"
   ]
  },
  {
   "cell_type": "code",
   "execution_count": 30,
   "metadata": {},
   "outputs": [],
   "source": [
    "authour_page_df.columns= ['Cum_Page_Rank']"
   ]
  },
  {
   "cell_type": "code",
   "execution_count": 31,
   "metadata": {},
   "outputs": [
    {
     "data": {
      "text/html": [
       "<div>\n",
       "<style scoped>\n",
       "    .dataframe tbody tr th:only-of-type {\n",
       "        vertical-align: middle;\n",
       "    }\n",
       "\n",
       "    .dataframe tbody tr th {\n",
       "        vertical-align: top;\n",
       "    }\n",
       "\n",
       "    .dataframe thead th {\n",
       "        text-align: right;\n",
       "    }\n",
       "</style>\n",
       "<table border=\"1\" class=\"dataframe\">\n",
       "  <thead>\n",
       "    <tr style=\"text-align: right;\">\n",
       "      <th></th>\n",
       "      <th>Cum_Page_Rank</th>\n",
       "    </tr>\n",
       "  </thead>\n",
       "  <tbody>\n",
       "    <tr>\n",
       "      <th>Makoto Satoh</th>\n",
       "      <td>1.296245e-07</td>\n",
       "    </tr>\n",
       "  </tbody>\n",
       "</table>\n",
       "</div>"
      ],
      "text/plain": [
       "              Cum_Page_Rank\n",
       "Makoto Satoh   1.296245e-07"
      ]
     },
     "execution_count": 31,
     "metadata": {},
     "output_type": "execute_result"
    }
   ],
   "source": [
    "authour_page_df.head(1)"
   ]
  },
  {
   "cell_type": "code",
   "execution_count": 32,
   "metadata": {},
   "outputs": [
    {
     "data": {
      "text/html": [
       "<div>\n",
       "<style scoped>\n",
       "    .dataframe tbody tr th:only-of-type {\n",
       "        vertical-align: middle;\n",
       "    }\n",
       "\n",
       "    .dataframe tbody tr th {\n",
       "        vertical-align: top;\n",
       "    }\n",
       "\n",
       "    .dataframe thead th {\n",
       "        text-align: right;\n",
       "    }\n",
       "</style>\n",
       "<table border=\"1\" class=\"dataframe\">\n",
       "  <thead>\n",
       "    <tr style=\"text-align: right;\">\n",
       "      <th></th>\n",
       "      <th>Cum_Page_Rank</th>\n",
       "    </tr>\n",
       "  </thead>\n",
       "  <tbody>\n",
       "    <tr>\n",
       "      <th>David E. Goldberg</th>\n",
       "      <td>0.000752</td>\n",
       "    </tr>\n",
       "    <tr>\n",
       "      <th>David G. Lowe</th>\n",
       "      <td>0.000504</td>\n",
       "    </tr>\n",
       "    <tr>\n",
       "      <th>Anil K. Jain</th>\n",
       "      <td>0.000421</td>\n",
       "    </tr>\n",
       "    <tr>\n",
       "      <th>Lotfi A. Zadeh</th>\n",
       "      <td>0.000408</td>\n",
       "    </tr>\n",
       "    <tr>\n",
       "      <th>Judea Pearl</th>\n",
       "      <td>0.000364</td>\n",
       "    </tr>\n",
       "    <tr>\n",
       "      <th>Leo Breiman</th>\n",
       "      <td>0.000362</td>\n",
       "    </tr>\n",
       "    <tr>\n",
       "      <th>Adi Shamir</th>\n",
       "      <td>0.000357</td>\n",
       "    </tr>\n",
       "    <tr>\n",
       "      <th>Ronald R. Yager</th>\n",
       "      <td>0.000311</td>\n",
       "    </tr>\n",
       "    <tr>\n",
       "      <th>Leslie Lamport</th>\n",
       "      <td>0.000306</td>\n",
       "    </tr>\n",
       "    <tr>\n",
       "      <th>David L. Donoho</th>\n",
       "      <td>0.000293</td>\n",
       "    </tr>\n",
       "  </tbody>\n",
       "</table>\n",
       "</div>"
      ],
      "text/plain": [
       "                   Cum_Page_Rank\n",
       "David E. Goldberg       0.000752\n",
       "David G. Lowe           0.000504\n",
       "Anil K. Jain            0.000421\n",
       "Lotfi A. Zadeh          0.000408\n",
       "Judea Pearl             0.000364\n",
       "Leo Breiman             0.000362\n",
       "Adi Shamir              0.000357\n",
       "Ronald R. Yager         0.000311\n",
       "Leslie Lamport          0.000306\n",
       "David L. Donoho         0.000293"
      ]
     },
     "execution_count": 32,
     "metadata": {},
     "output_type": "execute_result"
    }
   ],
   "source": [
    "authour_page_df.nlargest(10,'Cum_Page_Rank')"
   ]
  },
  {
   "cell_type": "code",
   "execution_count": 33,
   "metadata": {},
   "outputs": [],
   "source": [
    "authour_cit_df = pd.DataFrame.from_dict(author_cit, orient='index')"
   ]
  },
  {
   "cell_type": "code",
   "execution_count": 34,
   "metadata": {},
   "outputs": [],
   "source": [
    "authour_cit_df.columns= ['num_cit']"
   ]
  },
  {
   "cell_type": "code",
   "execution_count": 35,
   "metadata": {},
   "outputs": [
    {
     "data": {
      "text/html": [
       "<div>\n",
       "<style scoped>\n",
       "    .dataframe tbody tr th:only-of-type {\n",
       "        vertical-align: middle;\n",
       "    }\n",
       "\n",
       "    .dataframe tbody tr th {\n",
       "        vertical-align: top;\n",
       "    }\n",
       "\n",
       "    .dataframe thead th {\n",
       "        text-align: right;\n",
       "    }\n",
       "</style>\n",
       "<table border=\"1\" class=\"dataframe\">\n",
       "  <thead>\n",
       "    <tr style=\"text-align: right;\">\n",
       "      <th></th>\n",
       "      <th>num_cit</th>\n",
       "    </tr>\n",
       "  </thead>\n",
       "  <tbody>\n",
       "    <tr>\n",
       "      <th>Anil K. Jain</th>\n",
       "      <td>121850</td>\n",
       "    </tr>\n",
       "    <tr>\n",
       "      <th>David E. Goldberg</th>\n",
       "      <td>113375</td>\n",
       "    </tr>\n",
       "    <tr>\n",
       "      <th>Hari Balakrishnan</th>\n",
       "      <td>109682</td>\n",
       "    </tr>\n",
       "    <tr>\n",
       "      <th>Scott Shenker</th>\n",
       "      <td>96827</td>\n",
       "    </tr>\n",
       "    <tr>\n",
       "      <th>Jiawei Han</th>\n",
       "      <td>95502</td>\n",
       "    </tr>\n",
       "    <tr>\n",
       "      <th>Philip S. Yu</th>\n",
       "      <td>88340</td>\n",
       "    </tr>\n",
       "    <tr>\n",
       "      <th>Geoffrey E. Hinton</th>\n",
       "      <td>83801</td>\n",
       "    </tr>\n",
       "    <tr>\n",
       "      <th>Rakesh Agrawal</th>\n",
       "      <td>83186</td>\n",
       "    </tr>\n",
       "    <tr>\n",
       "      <th>Michael I. Jordan</th>\n",
       "      <td>82241</td>\n",
       "    </tr>\n",
       "    <tr>\n",
       "      <th>Deborah Estrin</th>\n",
       "      <td>81389</td>\n",
       "    </tr>\n",
       "  </tbody>\n",
       "</table>\n",
       "</div>"
      ],
      "text/plain": [
       "                    num_cit\n",
       "Anil K. Jain         121850\n",
       "David E. Goldberg    113375\n",
       "Hari Balakrishnan    109682\n",
       "Scott Shenker         96827\n",
       "Jiawei Han            95502\n",
       "Philip S. Yu          88340\n",
       "Geoffrey E. Hinton    83801\n",
       "Rakesh Agrawal        83186\n",
       "Michael I. Jordan     82241\n",
       "Deborah Estrin        81389"
      ]
     },
     "execution_count": 35,
     "metadata": {},
     "output_type": "execute_result"
    }
   ],
   "source": [
    "authour_cit_df.nlargest(10,'num_cit')"
   ]
  },
  {
   "cell_type": "code",
   "execution_count": 36,
   "metadata": {},
   "outputs": [
    {
     "data": {
      "text/html": [
       "<div>\n",
       "<style scoped>\n",
       "    .dataframe tbody tr th:only-of-type {\n",
       "        vertical-align: middle;\n",
       "    }\n",
       "\n",
       "    .dataframe tbody tr th {\n",
       "        vertical-align: top;\n",
       "    }\n",
       "\n",
       "    .dataframe thead th {\n",
       "        text-align: right;\n",
       "    }\n",
       "</style>\n",
       "<table border=\"1\" class=\"dataframe\">\n",
       "  <thead>\n",
       "    <tr style=\"text-align: right;\">\n",
       "      <th></th>\n",
       "      <th>num_cit</th>\n",
       "    </tr>\n",
       "  </thead>\n",
       "  <tbody>\n",
       "    <tr>\n",
       "      <th>Makoto Satoh</th>\n",
       "      <td>102</td>\n",
       "    </tr>\n",
       "    <tr>\n",
       "      <th>Ryo Muramatsu</th>\n",
       "      <td>0</td>\n",
       "    </tr>\n",
       "    <tr>\n",
       "      <th>Mizue Kayama</th>\n",
       "      <td>655</td>\n",
       "    </tr>\n",
       "    <tr>\n",
       "      <th>Kazunori Itoh</th>\n",
       "      <td>364</td>\n",
       "    </tr>\n",
       "    <tr>\n",
       "      <th>Masami Hashimoto</th>\n",
       "      <td>153</td>\n",
       "    </tr>\n",
       "    <tr>\n",
       "      <th>Makoto Otani</th>\n",
       "      <td>483</td>\n",
       "    </tr>\n",
       "    <tr>\n",
       "      <th>Michio Shimizu</th>\n",
       "      <td>260</td>\n",
       "    </tr>\n",
       "    <tr>\n",
       "      <th>Masahiko Sugimoto</th>\n",
       "      <td>200</td>\n",
       "    </tr>\n",
       "    <tr>\n",
       "      <th>Gareth Beale</th>\n",
       "      <td>110</td>\n",
       "    </tr>\n",
       "    <tr>\n",
       "      <th>Graeme Earl</th>\n",
       "      <td>565</td>\n",
       "    </tr>\n",
       "  </tbody>\n",
       "</table>\n",
       "</div>"
      ],
      "text/plain": [
       "                   num_cit\n",
       "Makoto Satoh           102\n",
       "Ryo Muramatsu            0\n",
       "Mizue Kayama           655\n",
       "Kazunori Itoh          364\n",
       "Masami Hashimoto       153\n",
       "Makoto Otani           483\n",
       "Michio Shimizu         260\n",
       "Masahiko Sugimoto      200\n",
       "Gareth Beale           110\n",
       "Graeme Earl            565"
      ]
     },
     "execution_count": 36,
     "metadata": {},
     "output_type": "execute_result"
    }
   ],
   "source": [
    "authour_cit_df.head(10)"
   ]
  },
  {
   "cell_type": "code",
   "execution_count": 37,
   "metadata": {},
   "outputs": [],
   "source": [
    "authour_page_df['num_citation'] = authour_cit_df['num_cit']"
   ]
  },
  {
   "cell_type": "code",
   "execution_count": null,
   "metadata": {},
   "outputs": [],
   "source": [
    "authour_page_df.loc['Deborah Estrin']"
   ]
  },
  {
   "cell_type": "code",
   "execution_count": 38,
   "metadata": {},
   "outputs": [],
   "source": [
    "authour_page_df.to_csv('author_rank.csv', index=True)"
   ]
  },
  {
   "cell_type": "code",
   "execution_count": 61,
   "metadata": {},
   "outputs": [],
   "source": [
    "dblp.to_csv('dblp_data.csv', index = False)"
   ]
  },
  {
   "cell_type": "code",
   "execution_count": null,
   "metadata": {},
   "outputs": [],
   "source": [
    "authour_page_df.info()"
   ]
  },
  {
   "cell_type": "code",
   "execution_count": 39,
   "metadata": {},
   "outputs": [],
   "source": [
    "del authour_cit_df"
   ]
  },
  {
   "cell_type": "code",
   "execution_count": 82,
   "metadata": {},
   "outputs": [],
   "source": [
    "authors_dict = defaultdict(bool)"
   ]
  },
  {
   "cell_type": "code",
   "execution_count": 83,
   "metadata": {},
   "outputs": [],
   "source": [
    "A = nx.DiGraph()"
   ]
  },
  {
   "cell_type": "code",
   "execution_count": 84,
   "metadata": {},
   "outputs": [],
   "source": [
    "edgelist_A = defaultdict(list)"
   ]
  },
  {
   "cell_type": "code",
   "execution_count": null,
   "metadata": {},
   "outputs": [],
   "source": [
    "dblp['ref_authors'] = dblp['references'].apply(lambda row: if for re in row dblp[dblp['id'] == re].authors.values[0])"
   ]
  },
  {
   "cell_type": "code",
   "execution_count": 81,
   "metadata": {},
   "outputs": [
    {
     "name": "stdout",
     "output_type": "stream",
     "text": [
      "00127ee2-cb05-48ce-bc49-9de556b93346\n"
     ]
    },
    {
     "ename": "KeyboardInterrupt",
     "evalue": "",
     "output_type": "error",
     "traceback": [
      "\u001b[0;31m---------------------------------------------------------------------------\u001b[0m",
      "\u001b[0;31mKeyboardInterrupt\u001b[0m                         Traceback (most recent call last)",
      "\u001b[0;32m<ipython-input-81-95f0df30057e>\u001b[0m in \u001b[0;36m<module>\u001b[0;34m()\u001b[0m\n\u001b[1;32m     19\u001b[0m     \u001b[0;32mif\u001b[0m \u001b[0mref\u001b[0m\u001b[0;34m:\u001b[0m\u001b[0;34m\u001b[0m\u001b[0m\n\u001b[1;32m     20\u001b[0m         \u001b[0;32mfor\u001b[0m \u001b[0mre\u001b[0m \u001b[0;32min\u001b[0m \u001b[0mref\u001b[0m\u001b[0;34m:\u001b[0m\u001b[0;34m\u001b[0m\u001b[0m\n\u001b[0;32m---> 21\u001b[0;31m             \u001b[0mout_authors\u001b[0m \u001b[0;34m+=\u001b[0m \u001b[0mdblp\u001b[0m\u001b[0;34m[\u001b[0m\u001b[0mdblp\u001b[0m\u001b[0;34m[\u001b[0m\u001b[0;34m'id'\u001b[0m\u001b[0;34m]\u001b[0m \u001b[0;34m==\u001b[0m \u001b[0mre\u001b[0m\u001b[0;34m]\u001b[0m\u001b[0;34m.\u001b[0m\u001b[0mauthors\u001b[0m\u001b[0;34m.\u001b[0m\u001b[0mvalues\u001b[0m\u001b[0;34m[\u001b[0m\u001b[0;36m0\u001b[0m\u001b[0;34m]\u001b[0m\u001b[0;34m\u001b[0m\u001b[0m\n\u001b[0m\u001b[1;32m     22\u001b[0m         \u001b[0;32mfor\u001b[0m \u001b[0mauthor\u001b[0m \u001b[0;32min\u001b[0m \u001b[0mauthors\u001b[0m\u001b[0;34m:\u001b[0m\u001b[0;34m\u001b[0m\u001b[0m\n\u001b[1;32m     23\u001b[0m             \u001b[0;31m#res = list(set(edgelist_A[author] + out_authors))\u001b[0m\u001b[0;34m\u001b[0m\u001b[0;34m\u001b[0m\u001b[0m\n",
      "\u001b[0;32m~/anaconda3/lib/python3.7/site-packages/pandas/core/ops.py\u001b[0m in \u001b[0;36mwrapper\u001b[0;34m(self, other, axis)\u001b[0m\n\u001b[1;32m   1281\u001b[0m \u001b[0;34m\u001b[0m\u001b[0m\n\u001b[1;32m   1282\u001b[0m             \u001b[0;32mwith\u001b[0m \u001b[0mnp\u001b[0m\u001b[0;34m.\u001b[0m\u001b[0merrstate\u001b[0m\u001b[0;34m(\u001b[0m\u001b[0mall\u001b[0m\u001b[0;34m=\u001b[0m\u001b[0;34m'ignore'\u001b[0m\u001b[0;34m)\u001b[0m\u001b[0;34m:\u001b[0m\u001b[0;34m\u001b[0m\u001b[0m\n\u001b[0;32m-> 1283\u001b[0;31m                 \u001b[0mres\u001b[0m \u001b[0;34m=\u001b[0m \u001b[0mna_op\u001b[0m\u001b[0;34m(\u001b[0m\u001b[0mvalues\u001b[0m\u001b[0;34m,\u001b[0m \u001b[0mother\u001b[0m\u001b[0;34m)\u001b[0m\u001b[0;34m\u001b[0m\u001b[0m\n\u001b[0m\u001b[1;32m   1284\u001b[0m             \u001b[0;32mif\u001b[0m \u001b[0mis_scalar\u001b[0m\u001b[0;34m(\u001b[0m\u001b[0mres\u001b[0m\u001b[0;34m)\u001b[0m\u001b[0;34m:\u001b[0m\u001b[0;34m\u001b[0m\u001b[0m\n\u001b[1;32m   1285\u001b[0m                 raise TypeError('Could not compare {typ} type with Series'\n",
      "\u001b[0;32m~/anaconda3/lib/python3.7/site-packages/pandas/core/ops.py\u001b[0m in \u001b[0;36mna_op\u001b[0;34m(x, y)\u001b[0m\n\u001b[1;32m   1141\u001b[0m \u001b[0;34m\u001b[0m\u001b[0m\n\u001b[1;32m   1142\u001b[0m         \u001b[0;32melif\u001b[0m \u001b[0mis_object_dtype\u001b[0m\u001b[0;34m(\u001b[0m\u001b[0mx\u001b[0m\u001b[0;34m.\u001b[0m\u001b[0mdtype\u001b[0m\u001b[0;34m)\u001b[0m\u001b[0;34m:\u001b[0m\u001b[0;34m\u001b[0m\u001b[0m\n\u001b[0;32m-> 1143\u001b[0;31m             \u001b[0mresult\u001b[0m \u001b[0;34m=\u001b[0m \u001b[0m_comp_method_OBJECT_ARRAY\u001b[0m\u001b[0;34m(\u001b[0m\u001b[0mop\u001b[0m\u001b[0;34m,\u001b[0m \u001b[0mx\u001b[0m\u001b[0;34m,\u001b[0m \u001b[0my\u001b[0m\u001b[0;34m)\u001b[0m\u001b[0;34m\u001b[0m\u001b[0m\n\u001b[0m\u001b[1;32m   1144\u001b[0m \u001b[0;34m\u001b[0m\u001b[0m\n\u001b[1;32m   1145\u001b[0m         \u001b[0;32melif\u001b[0m \u001b[0mis_datetimelike_v_numeric\u001b[0m\u001b[0;34m(\u001b[0m\u001b[0mx\u001b[0m\u001b[0;34m,\u001b[0m \u001b[0my\u001b[0m\u001b[0;34m)\u001b[0m\u001b[0;34m:\u001b[0m\u001b[0;34m\u001b[0m\u001b[0m\n",
      "\u001b[0;32m~/anaconda3/lib/python3.7/site-packages/pandas/core/ops.py\u001b[0m in \u001b[0;36m_comp_method_OBJECT_ARRAY\u001b[0;34m(op, x, y)\u001b[0m\n\u001b[1;32m   1120\u001b[0m         \u001b[0mresult\u001b[0m \u001b[0;34m=\u001b[0m \u001b[0mlibops\u001b[0m\u001b[0;34m.\u001b[0m\u001b[0mvec_compare\u001b[0m\u001b[0;34m(\u001b[0m\u001b[0mx\u001b[0m\u001b[0;34m,\u001b[0m \u001b[0my\u001b[0m\u001b[0;34m,\u001b[0m \u001b[0mop\u001b[0m\u001b[0;34m)\u001b[0m\u001b[0;34m\u001b[0m\u001b[0m\n\u001b[1;32m   1121\u001b[0m     \u001b[0;32melse\u001b[0m\u001b[0;34m:\u001b[0m\u001b[0;34m\u001b[0m\u001b[0m\n\u001b[0;32m-> 1122\u001b[0;31m         \u001b[0mresult\u001b[0m \u001b[0;34m=\u001b[0m \u001b[0mlibops\u001b[0m\u001b[0;34m.\u001b[0m\u001b[0mscalar_compare\u001b[0m\u001b[0;34m(\u001b[0m\u001b[0mx\u001b[0m\u001b[0;34m,\u001b[0m \u001b[0my\u001b[0m\u001b[0;34m,\u001b[0m \u001b[0mop\u001b[0m\u001b[0;34m)\u001b[0m\u001b[0;34m\u001b[0m\u001b[0m\n\u001b[0m\u001b[1;32m   1123\u001b[0m     \u001b[0;32mreturn\u001b[0m \u001b[0mresult\u001b[0m\u001b[0;34m\u001b[0m\u001b[0m\n\u001b[1;32m   1124\u001b[0m \u001b[0;34m\u001b[0m\u001b[0m\n",
      "\u001b[0;31mKeyboardInterrupt\u001b[0m: "
     ]
    }
   ],
   "source": [
    "count = 0\n",
    "for i, row in dblp.iterrows():\n",
    "    node = row['id']\n",
    "    authors = row['authors']\n",
    "    ref = row['references']\n",
    "    if authors_dict[node]:\n",
    "        pass\n",
    "    else:\n",
    "        authors_dict[node] = True\n",
    "        A.add_node(str(node))\n",
    "    try:\n",
    "        n_auth = len(authors)\n",
    "    except Exception:\n",
    "        continue\n",
    "    out_authors = []\n",
    "    if count % 100 == 0:\n",
    "            print(node)\n",
    "    count += 1\n",
    "    if ref:\n",
    "        for re in ref:\n",
    "            out_authors += dblp[dblp['id'] == re].authors.values[0]\n",
    "        for author in authors:\n",
    "            #res = list(set(edgelist_A[author] + out_authors))\n",
    "            edgelist_A[author] += out_authors\n",
    "    else:\n",
    "        pass                    "
   ]
  },
  {
   "cell_type": "code",
   "execution_count": null,
   "metadata": {},
   "outputs": [],
   "source": [
    "auth_df = pd.DataFrame(edgelist, columns=['node1', 'node2'])\n",
    "auth_df.to_csv('auth_df.csv', index=False)"
   ]
  },
  {
   "cell_type": "code",
   "execution_count": null,
   "metadata": {},
   "outputs": [],
   "source": [
    "dblp[dbpl['id'] == re].authors.values"
   ]
  },
  {
   "cell_type": "code",
   "execution_count": 41,
   "metadata": {},
   "outputs": [
    {
     "data": {
      "text/plain": [
       "0    [51c7e02e-f5ed-431a-8cf5-f761f266d4be, 69b625b...\n",
       "1    [10482dd3-4642-4193-842f-85f3b70fcf65, 3133714...\n",
       "2    [2d84c0f2-e656-4ce7-b018-90eda1c132fe, a083a1b...\n",
       "Name: references, dtype: object"
      ]
     },
     "execution_count": 41,
     "metadata": {},
     "output_type": "execute_result"
    }
   ],
   "source": [
    "dblp.iloc[0:3]['references']"
   ]
  },
  {
   "cell_type": "code",
   "execution_count": 75,
   "metadata": {},
   "outputs": [],
   "source": [
    "auth = dblp[dblp['id'] == '51c7e02e-f5ed-431a-8cf5-f761f266d4be'].authors.values[0]\n"
   ]
  },
  {
   "cell_type": "code",
   "execution_count": 88,
   "metadata": {},
   "outputs": [
    {
     "ename": "SyntaxError",
     "evalue": "invalid syntax (<ipython-input-88-23d023ec88bb>, line 1)",
     "output_type": "error",
     "traceback": [
      "\u001b[0;36m  File \u001b[0;32m\"<ipython-input-88-23d023ec88bb>\"\u001b[0;36m, line \u001b[0;32m1\u001b[0m\n\u001b[0;31m    result  = dblp.iloc[0:5]['references'].apply(lambda row:[a for re in row: a += dblp[dblp['id'] == re].authors.values[0]])\u001b[0m\n\u001b[0m                                                                            ^\u001b[0m\n\u001b[0;31mSyntaxError\u001b[0m\u001b[0;31m:\u001b[0m invalid syntax\n"
     ]
    }
   ],
   "source": [
    "result  = dblp.iloc[0:5]['references'].apply(lambda row:[a for re in row: a += dblp[dblp['id'] == re].authors.values[0]])"
   ]
  },
  {
   "cell_type": "code",
   "execution_count": 91,
   "metadata": {},
   "outputs": [],
   "source": [
    "def author_list(references):\n",
    "    if references:\n",
    "        out_authors = []\n",
    "        for re in ref:\n",
    "            out_authors += dblp[dblp['id'] == re].authors.values[0]\n",
    "        return list(set(out_authors))\n",
    "    else:\n",
    "        return references        "
   ]
  },
  {
   "cell_type": "code",
   "execution_count": 92,
   "metadata": {},
   "outputs": [],
   "source": [
    "auth_list =  dblp.iloc[0:5]['references'].apply(author_list)"
   ]
  },
  {
   "cell_type": "code",
   "execution_count": 96,
   "metadata": {},
   "outputs": [
    {
     "data": {
      "text/html": [
       "<div>\n",
       "<style scoped>\n",
       "    .dataframe tbody tr th:only-of-type {\n",
       "        vertical-align: middle;\n",
       "    }\n",
       "\n",
       "    .dataframe tbody tr th {\n",
       "        vertical-align: top;\n",
       "    }\n",
       "\n",
       "    .dataframe thead th {\n",
       "        text-align: right;\n",
       "    }\n",
       "</style>\n",
       "<table border=\"1\" class=\"dataframe\">\n",
       "  <thead>\n",
       "    <tr style=\"text-align: right;\">\n",
       "      <th></th>\n",
       "      <th>abstract</th>\n",
       "      <th>authors</th>\n",
       "      <th>id</th>\n",
       "      <th>n_citation</th>\n",
       "      <th>references</th>\n",
       "      <th>title</th>\n",
       "      <th>venue</th>\n",
       "      <th>year</th>\n",
       "    </tr>\n",
       "  </thead>\n",
       "  <tbody>\n",
       "    <tr>\n",
       "      <th>0</th>\n",
       "      <td>The purpose of this study is to develop a lear...</td>\n",
       "      <td>[Makoto Satoh, Ryo Muramatsu, Mizue Kayama, Ka...</td>\n",
       "      <td>00127ee2-cb05-48ce-bc49-9de556b93346</td>\n",
       "      <td>0</td>\n",
       "      <td>[51c7e02e-f5ed-431a-8cf5-f761f266d4be, 69b625b...</td>\n",
       "      <td>Preliminary Design of a Network Protocol Learn...</td>\n",
       "      <td>international conference on human-computer int...</td>\n",
       "      <td>2013</td>\n",
       "    </tr>\n",
       "  </tbody>\n",
       "</table>\n",
       "</div>"
      ],
      "text/plain": [
       "                                            abstract  \\\n",
       "0  The purpose of this study is to develop a lear...   \n",
       "\n",
       "                                             authors  \\\n",
       "0  [Makoto Satoh, Ryo Muramatsu, Mizue Kayama, Ka...   \n",
       "\n",
       "                                     id  n_citation  \\\n",
       "0  00127ee2-cb05-48ce-bc49-9de556b93346           0   \n",
       "\n",
       "                                          references  \\\n",
       "0  [51c7e02e-f5ed-431a-8cf5-f761f266d4be, 69b625b...   \n",
       "\n",
       "                                               title  \\\n",
       "0  Preliminary Design of a Network Protocol Learn...   \n",
       "\n",
       "                                               venue  year  \n",
       "0  international conference on human-computer int...  2013  "
      ]
     },
     "execution_count": 96,
     "metadata": {},
     "output_type": "execute_result"
    }
   ],
   "source": [
    "dblp.head(1)"
   ]
  },
  {
   "cell_type": "code",
   "execution_count": 97,
   "metadata": {},
   "outputs": [],
   "source": [
    "id_author_map = defaultdict(list)"
   ]
  },
  {
   "cell_type": "code",
   "execution_count": 98,
   "metadata": {},
   "outputs": [
    {
     "name": "stdout",
     "output_type": "stream",
     "text": [
      "0\n",
      "100000\n",
      "200000\n",
      "300000\n",
      "400000\n",
      "500000\n",
      "600000\n",
      "700000\n",
      "800000\n",
      "900000\n",
      "1000000\n",
      "1100000\n",
      "1200000\n",
      "1300000\n",
      "1400000\n",
      "1500000\n",
      "1600000\n",
      "1700000\n",
      "1800000\n",
      "1900000\n",
      "2000000\n",
      "2100000\n",
      "2200000\n",
      "2300000\n",
      "2400000\n",
      "2500000\n",
      "2600000\n",
      "2700000\n",
      "2800000\n",
      "2900000\n",
      "3000000\n"
     ]
    }
   ],
   "source": [
    "a_count = 0\n",
    "for i, row in dblp.iterrows():\n",
    "    if a_count%100000 == 0:\n",
    "        print(a_count)\n",
    "    a_count += 1\n",
    "    try:\n",
    "        n_auth = len(authors)\n",
    "        node = row['id']\n",
    "        authors = row['authors']\n",
    "        id_author_map[node] += authors\n",
    "    except Exception:\n",
    "        continue\n"
   ]
  },
  {
   "cell_type": "code",
   "execution_count": 99,
   "metadata": {},
   "outputs": [],
   "source": [
    "edgelist_A= defaultdict(list)\n",
    "authors_dict = defaultdict(bool)\n",
    "A = nx.DiGraph()"
   ]
  },
  {
   "cell_type": "code",
   "execution_count": null,
   "metadata": {},
   "outputs": [
    {
     "name": "stdout",
     "output_type": "stream",
     "text": [
      "0\n",
      "10000\n",
      "20000\n",
      "30000\n",
      "40000\n",
      "50000\n",
      "60000\n",
      "70000\n",
      "80000\n",
      "90000\n",
      "100000\n",
      "110000\n",
      "120000\n",
      "130000\n",
      "140000\n",
      "150000\n",
      "160000\n",
      "170000\n",
      "180000\n",
      "190000\n",
      "200000\n",
      "210000\n",
      "220000\n",
      "230000\n",
      "240000\n",
      "250000\n",
      "260000\n",
      "270000\n",
      "280000\n",
      "290000\n",
      "300000\n",
      "310000\n",
      "320000\n",
      "330000\n",
      "340000\n",
      "350000\n",
      "360000\n",
      "370000\n",
      "380000\n",
      "390000\n",
      "400000\n",
      "410000\n",
      "420000\n",
      "430000\n",
      "440000\n",
      "450000\n",
      "460000\n",
      "470000\n",
      "480000\n",
      "490000\n",
      "500000\n",
      "510000\n",
      "520000\n",
      "530000\n",
      "540000\n",
      "550000\n",
      "560000\n",
      "570000\n",
      "580000\n",
      "590000\n",
      "600000\n",
      "610000\n",
      "620000\n"
     ]
    }
   ],
   "source": [
    "s_count = 0\n",
    "for i, row in dblp.iterrows():\n",
    "    node = row['id']\n",
    "    authors = row['authors']\n",
    "    ref = row['references']\n",
    "    if authors_dict[node]:\n",
    "        pass\n",
    "    else:\n",
    "        authors_dict[node] = True\n",
    "        A.add_node(str(node))\n",
    "    try:\n",
    "        n_auth = len(authors)\n",
    "    except Exception:\n",
    "        continue\n",
    "    out_authors = []\n",
    "    if s_count % 10000 == 0:\n",
    "            print(s_count)\n",
    "    s_count += 1\n",
    "    if ref:\n",
    "        for re in ref:\n",
    "            out_authors += id_author_map[re]\n",
    "        #out_authors = list(set(out_authors))    \n",
    "        for author in authors:\n",
    "            res = list(set(edgelist_A[author] + out_authors))\n",
    "            edgelist_A[author] = res\n",
    "    else:\n",
    "        pass             "
   ]
  },
  {
   "cell_type": "code",
   "execution_count": 3,
   "metadata": {},
   "outputs": [],
   "source": [
    "author_final_df = pd.read_csv('with_ranks.csv')"
   ]
  },
  {
   "cell_type": "code",
   "execution_count": 4,
   "metadata": {},
   "outputs": [],
   "source": [
    "result_df = author_final_df.nlargest(100,'Cum_Page_Rank')"
   ]
  },
  {
   "cell_type": "code",
   "execution_count": 9,
   "metadata": {},
   "outputs": [
    {
     "data": {
      "text/html": [
       "<div>\n",
       "<style scoped>\n",
       "    .dataframe tbody tr th:only-of-type {\n",
       "        vertical-align: middle;\n",
       "    }\n",
       "\n",
       "    .dataframe tbody tr th {\n",
       "        vertical-align: top;\n",
       "    }\n",
       "\n",
       "    .dataframe thead th {\n",
       "        text-align: right;\n",
       "    }\n",
       "</style>\n",
       "<table border=\"1\" class=\"dataframe\">\n",
       "  <thead>\n",
       "    <tr style=\"text-align: right;\">\n",
       "      <th></th>\n",
       "      <th>Author</th>\n",
       "      <th>Cum_Page_Rank</th>\n",
       "      <th>num_citation</th>\n",
       "      <th>centrality</th>\n",
       "      <th>hindex</th>\n",
       "      <th>Metric_Rank</th>\n",
       "      <th>Citation_Rank</th>\n",
       "      <th>Centrality_Rank</th>\n",
       "      <th>hindex_Rank</th>\n",
       "    </tr>\n",
       "  </thead>\n",
       "  <tbody>\n",
       "    <tr>\n",
       "      <th>3234</th>\n",
       "      <td>David E. Goldberg</td>\n",
       "      <td>0.000752</td>\n",
       "      <td>113375</td>\n",
       "      <td>0.021863</td>\n",
       "      <td>73</td>\n",
       "      <td>1</td>\n",
       "      <td>2</td>\n",
       "      <td>1.0</td>\n",
       "      <td>166</td>\n",
       "    </tr>\n",
       "    <tr>\n",
       "      <th>75171</th>\n",
       "      <td>Rakesh Agrawal</td>\n",
       "      <td>0.000274</td>\n",
       "      <td>83186</td>\n",
       "      <td>0.013545</td>\n",
       "      <td>84</td>\n",
       "      <td>12</td>\n",
       "      <td>8</td>\n",
       "      <td>2.0</td>\n",
       "      <td>71</td>\n",
       "    </tr>\n",
       "    <tr>\n",
       "      <th>45636</th>\n",
       "      <td>Anil K. Jain</td>\n",
       "      <td>0.000421</td>\n",
       "      <td>121850</td>\n",
       "      <td>0.012705</td>\n",
       "      <td>144</td>\n",
       "      <td>3</td>\n",
       "      <td>1</td>\n",
       "      <td>3.0</td>\n",
       "      <td>1</td>\n",
       "    </tr>\n",
       "    <tr>\n",
       "      <th>11897</th>\n",
       "      <td>Luc J. Van Gool</td>\n",
       "      <td>0.000120</td>\n",
       "      <td>69100</td>\n",
       "      <td>0.012641</td>\n",
       "      <td>83</td>\n",
       "      <td>159</td>\n",
       "      <td>25</td>\n",
       "      <td>4.0</td>\n",
       "      <td>76</td>\n",
       "    </tr>\n",
       "    <tr>\n",
       "      <th>18761</th>\n",
       "      <td>Gerard Salton</td>\n",
       "      <td>0.000231</td>\n",
       "      <td>50133</td>\n",
       "      <td>0.012549</td>\n",
       "      <td>50</td>\n",
       "      <td>24</td>\n",
       "      <td>60</td>\n",
       "      <td>5.0</td>\n",
       "      <td>4035</td>\n",
       "    </tr>\n",
       "    <tr>\n",
       "      <th>7025</th>\n",
       "      <td>Andrew Zisserman</td>\n",
       "      <td>0.000187</td>\n",
       "      <td>78278</td>\n",
       "      <td>0.012348</td>\n",
       "      <td>123</td>\n",
       "      <td>48</td>\n",
       "      <td>12</td>\n",
       "      <td>6.0</td>\n",
       "      <td>4</td>\n",
       "    </tr>\n",
       "    <tr>\n",
       "      <th>62201</th>\n",
       "      <td>Christopher D. Manning</td>\n",
       "      <td>0.000124</td>\n",
       "      <td>51756</td>\n",
       "      <td>0.011506</td>\n",
       "      <td>82</td>\n",
       "      <td>149</td>\n",
       "      <td>54</td>\n",
       "      <td>7.0</td>\n",
       "      <td>82</td>\n",
       "    </tr>\n",
       "    <tr>\n",
       "      <th>22366</th>\n",
       "      <td>Christos Faloutsos</td>\n",
       "      <td>0.000183</td>\n",
       "      <td>70392</td>\n",
       "      <td>0.010630</td>\n",
       "      <td>112</td>\n",
       "      <td>54</td>\n",
       "      <td>23</td>\n",
       "      <td>8.0</td>\n",
       "      <td>10</td>\n",
       "    </tr>\n",
       "    <tr>\n",
       "      <th>47786</th>\n",
       "      <td>Adi Shamir</td>\n",
       "      <td>0.000357</td>\n",
       "      <td>55714</td>\n",
       "      <td>0.010472</td>\n",
       "      <td>63</td>\n",
       "      <td>7</td>\n",
       "      <td>43</td>\n",
       "      <td>9.0</td>\n",
       "      <td>385</td>\n",
       "    </tr>\n",
       "    <tr>\n",
       "      <th>35741</th>\n",
       "      <td>Prabhakar Raghavan</td>\n",
       "      <td>0.000098</td>\n",
       "      <td>41301</td>\n",
       "      <td>0.010442</td>\n",
       "      <td>55</td>\n",
       "      <td>272</td>\n",
       "      <td>105</td>\n",
       "      <td>10.0</td>\n",
       "      <td>696</td>\n",
       "    </tr>\n",
       "  </tbody>\n",
       "</table>\n",
       "</div>"
      ],
      "text/plain": [
       "                       Author  Cum_Page_Rank  num_citation  centrality  \\\n",
       "3234        David E. Goldberg       0.000752        113375    0.021863   \n",
       "75171          Rakesh Agrawal       0.000274         83186    0.013545   \n",
       "45636            Anil K. Jain       0.000421        121850    0.012705   \n",
       "11897         Luc J. Van Gool       0.000120         69100    0.012641   \n",
       "18761           Gerard Salton       0.000231         50133    0.012549   \n",
       "7025         Andrew Zisserman       0.000187         78278    0.012348   \n",
       "62201  Christopher D. Manning       0.000124         51756    0.011506   \n",
       "22366      Christos Faloutsos       0.000183         70392    0.010630   \n",
       "47786              Adi Shamir       0.000357         55714    0.010472   \n",
       "35741      Prabhakar Raghavan       0.000098         41301    0.010442   \n",
       "\n",
       "       hindex  Metric_Rank  Citation_Rank  Centrality_Rank  hindex_Rank  \n",
       "3234       73            1              2              1.0          166  \n",
       "75171      84           12              8              2.0           71  \n",
       "45636     144            3              1              3.0            1  \n",
       "11897      83          159             25              4.0           76  \n",
       "18761      50           24             60              5.0         4035  \n",
       "7025      123           48             12              6.0            4  \n",
       "62201      82          149             54              7.0           82  \n",
       "22366     112           54             23              8.0           10  \n",
       "47786      63            7             43              9.0          385  \n",
       "35741      55          272            105             10.0          696  "
      ]
     },
     "execution_count": 9,
     "metadata": {},
     "output_type": "execute_result"
    }
   ],
   "source": [
    "author_final_df.nlargest(10,'centrality')"
   ]
  },
  {
   "cell_type": "code",
   "execution_count": 11,
   "metadata": {},
   "outputs": [
    {
     "name": "stderr",
     "output_type": "stream",
     "text": [
      "/Users/abhishekreddyyn/anaconda3/lib/python3.7/site-packages/sklearn/ensemble/weight_boosting.py:29: DeprecationWarning: numpy.core.umath_tests is an internal NumPy module and should not be imported. It will be removed in a future NumPy release.\n",
      "  from numpy.core.umath_tests import inner1d\n"
     ]
    }
   ],
   "source": [
    "import pyltr"
   ]
  },
  {
   "cell_type": "code",
   "execution_count": null,
   "metadata": {},
   "outputs": [],
   "source": []
  }
 ],
 "metadata": {
  "kernelspec": {
   "display_name": "Python 3",
   "language": "python",
   "name": "python3"
  },
  "language_info": {
   "codemirror_mode": {
    "name": "ipython",
    "version": 3
   },
   "file_extension": ".py",
   "mimetype": "text/x-python",
   "name": "python",
   "nbconvert_exporter": "python",
   "pygments_lexer": "ipython3",
   "version": "3.7.0"
  }
 },
 "nbformat": 4,
 "nbformat_minor": 2
}
